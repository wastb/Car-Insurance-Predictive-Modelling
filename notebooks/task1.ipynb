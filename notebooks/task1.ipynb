{
 "cells": [
  {
   "cell_type": "code",
   "execution_count": 1,
   "metadata": {},
   "outputs": [],
   "source": [
    "import pandas as pd\n",
    "import matplotlib.pyplot as plt\n",
    "\n",
    "import sys\n",
    "sys.path.append(\"../scripts\")\n",
    "\n",
    "import exploratory_data_analysis as EDA"
   ]
  },
  {
   "cell_type": "code",
   "execution_count": 2,
   "metadata": {},
   "outputs": [
    {
     "name": "stderr",
     "output_type": "stream",
     "text": [
      "C:\\Users\\wasihunt\\AppData\\Local\\Temp\\ipykernel_12168\\3582215207.py:1: DtypeWarning: Columns (32,37) have mixed types. Specify dtype option on import or set low_memory=False.\n",
      "  df = pd.read_csv(\"../data/ACIS.txt\", sep=\"|\");\n"
     ]
    }
   ],
   "source": [
    "df = pd.read_csv(\"../data/ACIS.txt\", sep=\"|\");"
   ]
  },
  {
   "cell_type": "code",
   "execution_count": 3,
   "metadata": {},
   "outputs": [
    {
     "data": {
      "text/html": [
       "<div>\n",
       "<style scoped>\n",
       "    .dataframe tbody tr th:only-of-type {\n",
       "        vertical-align: middle;\n",
       "    }\n",
       "\n",
       "    .dataframe tbody tr th {\n",
       "        vertical-align: top;\n",
       "    }\n",
       "\n",
       "    .dataframe thead th {\n",
       "        text-align: right;\n",
       "    }\n",
       "</style>\n",
       "<table border=\"1\" class=\"dataframe\">\n",
       "  <thead>\n",
       "    <tr style=\"text-align: right;\">\n",
       "      <th></th>\n",
       "      <th>UnderwrittenCoverID</th>\n",
       "      <th>PolicyID</th>\n",
       "      <th>TransactionMonth</th>\n",
       "      <th>IsVATRegistered</th>\n",
       "      <th>Citizenship</th>\n",
       "      <th>LegalType</th>\n",
       "      <th>Title</th>\n",
       "      <th>Language</th>\n",
       "      <th>Bank</th>\n",
       "      <th>AccountType</th>\n",
       "      <th>...</th>\n",
       "      <th>ExcessSelected</th>\n",
       "      <th>CoverCategory</th>\n",
       "      <th>CoverType</th>\n",
       "      <th>CoverGroup</th>\n",
       "      <th>Section</th>\n",
       "      <th>Product</th>\n",
       "      <th>StatutoryClass</th>\n",
       "      <th>StatutoryRiskType</th>\n",
       "      <th>TotalPremium</th>\n",
       "      <th>TotalClaims</th>\n",
       "    </tr>\n",
       "  </thead>\n",
       "  <tbody>\n",
       "    <tr>\n",
       "      <th>0</th>\n",
       "      <td>145249</td>\n",
       "      <td>12827</td>\n",
       "      <td>2015-03-01 00:00:00</td>\n",
       "      <td>True</td>\n",
       "      <td></td>\n",
       "      <td>Close Corporation</td>\n",
       "      <td>Mr</td>\n",
       "      <td>English</td>\n",
       "      <td>First National Bank</td>\n",
       "      <td>Current account</td>\n",
       "      <td>...</td>\n",
       "      <td>Mobility - Windscreen</td>\n",
       "      <td>Windscreen</td>\n",
       "      <td>Windscreen</td>\n",
       "      <td>Comprehensive - Taxi</td>\n",
       "      <td>Motor Comprehensive</td>\n",
       "      <td>Mobility Metered Taxis: Monthly</td>\n",
       "      <td>Commercial</td>\n",
       "      <td>IFRS Constant</td>\n",
       "      <td>21.929825</td>\n",
       "      <td>0.0</td>\n",
       "    </tr>\n",
       "    <tr>\n",
       "      <th>1</th>\n",
       "      <td>145249</td>\n",
       "      <td>12827</td>\n",
       "      <td>2015-05-01 00:00:00</td>\n",
       "      <td>True</td>\n",
       "      <td></td>\n",
       "      <td>Close Corporation</td>\n",
       "      <td>Mr</td>\n",
       "      <td>English</td>\n",
       "      <td>First National Bank</td>\n",
       "      <td>Current account</td>\n",
       "      <td>...</td>\n",
       "      <td>Mobility - Windscreen</td>\n",
       "      <td>Windscreen</td>\n",
       "      <td>Windscreen</td>\n",
       "      <td>Comprehensive - Taxi</td>\n",
       "      <td>Motor Comprehensive</td>\n",
       "      <td>Mobility Metered Taxis: Monthly</td>\n",
       "      <td>Commercial</td>\n",
       "      <td>IFRS Constant</td>\n",
       "      <td>21.929825</td>\n",
       "      <td>0.0</td>\n",
       "    </tr>\n",
       "    <tr>\n",
       "      <th>2</th>\n",
       "      <td>145249</td>\n",
       "      <td>12827</td>\n",
       "      <td>2015-07-01 00:00:00</td>\n",
       "      <td>True</td>\n",
       "      <td></td>\n",
       "      <td>Close Corporation</td>\n",
       "      <td>Mr</td>\n",
       "      <td>English</td>\n",
       "      <td>First National Bank</td>\n",
       "      <td>Current account</td>\n",
       "      <td>...</td>\n",
       "      <td>Mobility - Windscreen</td>\n",
       "      <td>Windscreen</td>\n",
       "      <td>Windscreen</td>\n",
       "      <td>Comprehensive - Taxi</td>\n",
       "      <td>Motor Comprehensive</td>\n",
       "      <td>Mobility Metered Taxis: Monthly</td>\n",
       "      <td>Commercial</td>\n",
       "      <td>IFRS Constant</td>\n",
       "      <td>0.000000</td>\n",
       "      <td>0.0</td>\n",
       "    </tr>\n",
       "    <tr>\n",
       "      <th>3</th>\n",
       "      <td>145255</td>\n",
       "      <td>12827</td>\n",
       "      <td>2015-05-01 00:00:00</td>\n",
       "      <td>True</td>\n",
       "      <td></td>\n",
       "      <td>Close Corporation</td>\n",
       "      <td>Mr</td>\n",
       "      <td>English</td>\n",
       "      <td>First National Bank</td>\n",
       "      <td>Current account</td>\n",
       "      <td>...</td>\n",
       "      <td>Mobility - Metered Taxis - R2000</td>\n",
       "      <td>Own damage</td>\n",
       "      <td>Own Damage</td>\n",
       "      <td>Comprehensive - Taxi</td>\n",
       "      <td>Motor Comprehensive</td>\n",
       "      <td>Mobility Metered Taxis: Monthly</td>\n",
       "      <td>Commercial</td>\n",
       "      <td>IFRS Constant</td>\n",
       "      <td>512.848070</td>\n",
       "      <td>0.0</td>\n",
       "    </tr>\n",
       "    <tr>\n",
       "      <th>4</th>\n",
       "      <td>145255</td>\n",
       "      <td>12827</td>\n",
       "      <td>2015-07-01 00:00:00</td>\n",
       "      <td>True</td>\n",
       "      <td></td>\n",
       "      <td>Close Corporation</td>\n",
       "      <td>Mr</td>\n",
       "      <td>English</td>\n",
       "      <td>First National Bank</td>\n",
       "      <td>Current account</td>\n",
       "      <td>...</td>\n",
       "      <td>Mobility - Metered Taxis - R2000</td>\n",
       "      <td>Own damage</td>\n",
       "      <td>Own Damage</td>\n",
       "      <td>Comprehensive - Taxi</td>\n",
       "      <td>Motor Comprehensive</td>\n",
       "      <td>Mobility Metered Taxis: Monthly</td>\n",
       "      <td>Commercial</td>\n",
       "      <td>IFRS Constant</td>\n",
       "      <td>0.000000</td>\n",
       "      <td>0.0</td>\n",
       "    </tr>\n",
       "  </tbody>\n",
       "</table>\n",
       "<p>5 rows × 52 columns</p>\n",
       "</div>"
      ],
      "text/plain": [
       "   UnderwrittenCoverID  PolicyID     TransactionMonth  IsVATRegistered  \\\n",
       "0               145249     12827  2015-03-01 00:00:00             True   \n",
       "1               145249     12827  2015-05-01 00:00:00             True   \n",
       "2               145249     12827  2015-07-01 00:00:00             True   \n",
       "3               145255     12827  2015-05-01 00:00:00             True   \n",
       "4               145255     12827  2015-07-01 00:00:00             True   \n",
       "\n",
       "  Citizenship          LegalType Title Language                 Bank  \\\n",
       "0              Close Corporation    Mr  English  First National Bank   \n",
       "1              Close Corporation    Mr  English  First National Bank   \n",
       "2              Close Corporation    Mr  English  First National Bank   \n",
       "3              Close Corporation    Mr  English  First National Bank   \n",
       "4              Close Corporation    Mr  English  First National Bank   \n",
       "\n",
       "       AccountType  ...                    ExcessSelected CoverCategory  \\\n",
       "0  Current account  ...             Mobility - Windscreen    Windscreen   \n",
       "1  Current account  ...             Mobility - Windscreen    Windscreen   \n",
       "2  Current account  ...             Mobility - Windscreen    Windscreen   \n",
       "3  Current account  ...  Mobility - Metered Taxis - R2000    Own damage   \n",
       "4  Current account  ...  Mobility - Metered Taxis - R2000    Own damage   \n",
       "\n",
       "    CoverType            CoverGroup              Section  \\\n",
       "0  Windscreen  Comprehensive - Taxi  Motor Comprehensive   \n",
       "1  Windscreen  Comprehensive - Taxi  Motor Comprehensive   \n",
       "2  Windscreen  Comprehensive - Taxi  Motor Comprehensive   \n",
       "3  Own Damage  Comprehensive - Taxi  Motor Comprehensive   \n",
       "4  Own Damage  Comprehensive - Taxi  Motor Comprehensive   \n",
       "\n",
       "                           Product StatutoryClass StatutoryRiskType  \\\n",
       "0  Mobility Metered Taxis: Monthly     Commercial     IFRS Constant   \n",
       "1  Mobility Metered Taxis: Monthly     Commercial     IFRS Constant   \n",
       "2  Mobility Metered Taxis: Monthly     Commercial     IFRS Constant   \n",
       "3  Mobility Metered Taxis: Monthly     Commercial     IFRS Constant   \n",
       "4  Mobility Metered Taxis: Monthly     Commercial     IFRS Constant   \n",
       "\n",
       "   TotalPremium TotalClaims  \n",
       "0     21.929825         0.0  \n",
       "1     21.929825         0.0  \n",
       "2      0.000000         0.0  \n",
       "3    512.848070         0.0  \n",
       "4      0.000000         0.0  \n",
       "\n",
       "[5 rows x 52 columns]"
      ]
     },
     "execution_count": 3,
     "metadata": {},
     "output_type": "execute_result"
    }
   ],
   "source": [
    "df.head()"
   ]
  },
  {
   "cell_type": "code",
   "execution_count": 4,
   "metadata": {},
   "outputs": [
    {
     "data": {
      "text/plain": [
       "(1000098, 52)"
      ]
     },
     "execution_count": 4,
     "metadata": {},
     "output_type": "execute_result"
    }
   ],
   "source": [
    "df.shape"
   ]
  },
  {
   "cell_type": "code",
   "execution_count": 5,
   "metadata": {},
   "outputs": [
    {
     "name": "stdout",
     "output_type": "stream",
     "text": [
      "<class 'pandas.core.frame.DataFrame'>\n",
      "RangeIndex: 1000098 entries, 0 to 1000097\n",
      "Data columns (total 52 columns):\n",
      " #   Column                    Non-Null Count    Dtype  \n",
      "---  ------                    --------------    -----  \n",
      " 0   UnderwrittenCoverID       1000098 non-null  int64  \n",
      " 1   PolicyID                  1000098 non-null  int64  \n",
      " 2   TransactionMonth          1000098 non-null  object \n",
      " 3   IsVATRegistered           1000098 non-null  bool   \n",
      " 4   Citizenship               1000098 non-null  object \n",
      " 5   LegalType                 1000098 non-null  object \n",
      " 6   Title                     1000098 non-null  object \n",
      " 7   Language                  1000098 non-null  object \n",
      " 8   Bank                      854137 non-null   object \n",
      " 9   AccountType               959866 non-null   object \n",
      " 10  MaritalStatus             991839 non-null   object \n",
      " 11  Gender                    990562 non-null   object \n",
      " 12  Country                   1000098 non-null  object \n",
      " 13  Province                  1000098 non-null  object \n",
      " 14  PostalCode                1000098 non-null  int64  \n",
      " 15  MainCrestaZone            1000098 non-null  object \n",
      " 16  SubCrestaZone             1000098 non-null  object \n",
      " 17  ItemType                  1000098 non-null  object \n",
      " 18  mmcode                    999546 non-null   float64\n",
      " 19  VehicleType               999546 non-null   object \n",
      " 20  RegistrationYear          1000098 non-null  int64  \n",
      " 21  make                      999546 non-null   object \n",
      " 22  Model                     999546 non-null   object \n",
      " 23  Cylinders                 999546 non-null   float64\n",
      " 24  cubiccapacity             999546 non-null   float64\n",
      " 25  kilowatts                 999546 non-null   float64\n",
      " 26  bodytype                  999546 non-null   object \n",
      " 27  NumberOfDoors             999546 non-null   float64\n",
      " 28  VehicleIntroDate          999546 non-null   object \n",
      " 29  CustomValueEstimate       220456 non-null   float64\n",
      " 30  AlarmImmobiliser          1000098 non-null  object \n",
      " 31  TrackingDevice            1000098 non-null  object \n",
      " 32  CapitalOutstanding        1000096 non-null  object \n",
      " 33  NewVehicle                846803 non-null   object \n",
      " 34  WrittenOff                358197 non-null   object \n",
      " 35  Rebuilt                   358197 non-null   object \n",
      " 36  Converted                 358197 non-null   object \n",
      " 37  CrossBorder               698 non-null      object \n",
      " 38  NumberOfVehiclesInFleet   0 non-null        float64\n",
      " 39  SumInsured                1000098 non-null  float64\n",
      " 40  TermFrequency             1000098 non-null  object \n",
      " 41  CalculatedPremiumPerTerm  1000098 non-null  float64\n",
      " 42  ExcessSelected            1000098 non-null  object \n",
      " 43  CoverCategory             1000098 non-null  object \n",
      " 44  CoverType                 1000098 non-null  object \n",
      " 45  CoverGroup                1000098 non-null  object \n",
      " 46  Section                   1000098 non-null  object \n",
      " 47  Product                   1000098 non-null  object \n",
      " 48  StatutoryClass            1000098 non-null  object \n",
      " 49  StatutoryRiskType         1000098 non-null  object \n",
      " 50  TotalPremium              1000098 non-null  float64\n",
      " 51  TotalClaims               1000098 non-null  float64\n",
      "dtypes: bool(1), float64(11), int64(4), object(36)\n",
      "memory usage: 390.1+ MB\n"
     ]
    }
   ],
   "source": [
    "df.info()"
   ]
  },
  {
   "cell_type": "code",
   "execution_count": 6,
   "metadata": {},
   "outputs": [
    {
     "data": {
      "text/plain": [
       "2"
      ]
     },
     "execution_count": 6,
     "metadata": {},
     "output_type": "execute_result"
    }
   ],
   "source": [
    "df['Converted'].nunique()"
   ]
  },
  {
   "cell_type": "code",
   "execution_count": 7,
   "metadata": {},
   "outputs": [],
   "source": [
    "## Intialize the class\n",
    "eda = EDA.exploratoryDataAnalysis(df)"
   ]
  },
  {
   "cell_type": "code",
   "execution_count": 8,
   "metadata": {},
   "outputs": [
    {
     "name": "stderr",
     "output_type": "stream",
     "text": [
      "d:\\Personal Files\\KIAM Notebooks\\KIAM Week3\\notebooks\\../scripts\\exploratory_data_analysis.py:12: UserWarning: Could not infer format, so each element will be parsed individually, falling back to `dateutil`. To ensure parsing is consistent and as-expected, please specify a format.\n",
      "  self.data['VehicleIntroDate'] = pd.to_datetime(self.data['VehicleIntroDate'], errors='coerce')\n"
     ]
    }
   ],
   "source": [
    "# Change data types\n",
    "eda.change_data_type()"
   ]
  },
  {
   "cell_type": "code",
   "execution_count": 9,
   "metadata": {},
   "outputs": [
    {
     "data": {
      "text/plain": [
       "UnderwrittenCoverID                  int64\n",
       "PolicyID                             int64\n",
       "TransactionMonth            datetime64[ns]\n",
       "IsVATRegistered                       bool\n",
       "Citizenship                         object\n",
       "LegalType                           object\n",
       "Title                               object\n",
       "Language                            object\n",
       "Bank                                object\n",
       "AccountType                         object\n",
       "MaritalStatus                       object\n",
       "Gender                              object\n",
       "Country                             object\n",
       "Province                            object\n",
       "PostalCode                           int64\n",
       "MainCrestaZone                      object\n",
       "SubCrestaZone                       object\n",
       "ItemType                            object\n",
       "mmcode                             float64\n",
       "VehicleType                         object\n",
       "RegistrationYear                     int64\n",
       "make                                object\n",
       "Model                               object\n",
       "Cylinders                          float64\n",
       "cubiccapacity                      float64\n",
       "kilowatts                          float64\n",
       "bodytype                            object\n",
       "NumberOfDoors                      float64\n",
       "VehicleIntroDate            datetime64[ns]\n",
       "CustomValueEstimate                float64\n",
       "AlarmImmobiliser                    object\n",
       "TrackingDevice                      object\n",
       "CapitalOutstanding                  object\n",
       "NewVehicle                          object\n",
       "WrittenOff                          object\n",
       "Rebuilt                             object\n",
       "Converted                           object\n",
       "CrossBorder                         object\n",
       "NumberOfVehiclesInFleet            float64\n",
       "SumInsured                         float64\n",
       "TermFrequency                       object\n",
       "CalculatedPremiumPerTerm           float64\n",
       "ExcessSelected                      object\n",
       "CoverCategory                       object\n",
       "CoverType                           object\n",
       "CoverGroup                          object\n",
       "Section                             object\n",
       "Product                             object\n",
       "StatutoryClass                      object\n",
       "StatutoryRiskType                   object\n",
       "TotalPremium                       float64\n",
       "TotalClaims                        float64\n",
       "dtype: object"
      ]
     },
     "execution_count": 9,
     "metadata": {},
     "output_type": "execute_result"
    }
   ],
   "source": [
    "df.dtypes"
   ]
  },
  {
   "cell_type": "code",
   "execution_count": 10,
   "metadata": {},
   "outputs": [
    {
     "data": {
      "text/plain": [
       "array([nan, 'No', 'Yes'], dtype=object)"
      ]
     },
     "execution_count": 10,
     "metadata": {},
     "output_type": "execute_result"
    }
   ],
   "source": [
    "df['Converted'].unique()"
   ]
  },
  {
   "cell_type": "code",
   "execution_count": 11,
   "metadata": {},
   "outputs": [
    {
     "data": {
      "text/plain": [
       "UnderwrittenCoverID         116532\n",
       "PolicyID                      7000\n",
       "TransactionMonth                23\n",
       "IsVATRegistered                  2\n",
       "Citizenship                      4\n",
       "LegalType                        6\n",
       "Title                            5\n",
       "Language                         1\n",
       "Bank                            11\n",
       "AccountType                      3\n",
       "MaritalStatus                    3\n",
       "Gender                           3\n",
       "Country                          1\n",
       "Province                         9\n",
       "PostalCode                     888\n",
       "MainCrestaZone                  16\n",
       "SubCrestaZone                   45\n",
       "ItemType                         1\n",
       "mmcode                         427\n",
       "VehicleType                      5\n",
       "RegistrationYear                25\n",
       "make                            46\n",
       "Model                          411\n",
       "Cylinders                        7\n",
       "cubiccapacity                  122\n",
       "kilowatts                       82\n",
       "bodytype                        13\n",
       "NumberOfDoors                    6\n",
       "VehicleIntroDate               160\n",
       "CustomValueEstimate            923\n",
       "AlarmImmobiliser                 2\n",
       "TrackingDevice                   2\n",
       "CapitalOutstanding            1011\n",
       "NewVehicle                       2\n",
       "WrittenOff                       2\n",
       "Rebuilt                          2\n",
       "Converted                        2\n",
       "CrossBorder                      1\n",
       "NumberOfVehiclesInFleet          0\n",
       "SumInsured                    2186\n",
       "TermFrequency                    2\n",
       "CalculatedPremiumPerTerm     19869\n",
       "ExcessSelected                  13\n",
       "CoverCategory                   28\n",
       "CoverType                       22\n",
       "CoverGroup                      14\n",
       "Section                          5\n",
       "Product                          4\n",
       "StatutoryClass                   1\n",
       "StatutoryRiskType                1\n",
       "TotalPremium                 38959\n",
       "TotalClaims                   1615\n",
       "dtype: int64"
      ]
     },
     "execution_count": 11,
     "metadata": {},
     "output_type": "execute_result"
    }
   ],
   "source": [
    "df.nunique()"
   ]
  },
  {
   "cell_type": "code",
   "execution_count": 14,
   "metadata": {},
   "outputs": [],
   "source": [
    "# Drop columns that are not necessary for the analysis\n",
    "#This columns doesn't offer anything to the analysis since they only contain a single value over their entire column.\n",
    "df.drop(columns=['Language','Country','ItemType','CrossBorder','NumberOfVehiclesInFleet','StatutoryClass','StatutoryRiskType'], inplace=True)"
   ]
  },
  {
   "cell_type": "code",
   "execution_count": null,
   "metadata": {},
   "outputs": [],
   "source": []
  }
 ],
 "metadata": {
  "kernelspec": {
   "display_name": ".venv",
   "language": "python",
   "name": "python3"
  },
  "language_info": {
   "codemirror_mode": {
    "name": "ipython",
    "version": 3
   },
   "file_extension": ".py",
   "mimetype": "text/x-python",
   "name": "python",
   "nbconvert_exporter": "python",
   "pygments_lexer": "ipython3",
   "version": "3.13.1"
  }
 },
 "nbformat": 4,
 "nbformat_minor": 2
}
